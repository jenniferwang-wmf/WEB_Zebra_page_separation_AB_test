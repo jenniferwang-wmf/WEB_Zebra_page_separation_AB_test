{
 "cells": [
  {
   "cell_type": "markdown",
   "id": "ecfb7e35-e2c7-4045-85d4-2e9892e3577e",
   "metadata": {},
   "source": [
    "# QA A/B test schema post-deployment\n",
    "Jun, 2023"
   ]
  },
  {
   "cell_type": "markdown",
   "id": "a259f7e4-2e75-4bd6-ad41-19333fdea280",
   "metadata": {},
   "source": [
    "## TICKETS:\n",
    "- Instumentation planning :    \n",
    "      Spec: [T333222](https://phabricator.wikimedia.org/T333222)\n",
    "\n",
    "- Instrumentation deployment :  \n",
    " Launch AB test: [T335972](https://phabricator.wikimedia.org/T335972)    \n",
    " Fix bug: [T336969](https://phabricator.wikimedia.org/T336969)\n",
    "\n",
    "- Data tickets:    \n",
    "__Data QA__: [T336299](https://phabricator.wikimedia.org/T336299)\n"
   ]
  },
  {
   "cell_type": "code",
   "execution_count": 20,
   "id": "08e7b67b-0f57-4a42-b31d-a2396c75850b",
   "metadata": {},
   "outputs": [],
   "source": [
    "shhh <- function(expr) suppressPackageStartupMessages(suppressWarnings(suppressMessages(expr)))\n",
    "shhh({\n",
    "library(tidyverse); \n",
    "library(lubridate); \n",
    "library(scales);\n",
    "library(magrittr); \n",
    "library(dplyr);\n",
    "})"
   ]
  },
  {
   "cell_type": "code",
   "execution_count": 21,
   "id": "d82ef8e6-4da4-4a73-93c4-26cbaf5e92c6",
   "metadata": {},
   "outputs": [
    {
     "data": {
      "text/html": [
       "<script>  \n",
       "code_show=true; \n",
       "function code_toggle() {\n",
       "  if (code_show){\n",
       "    $('div.input').hide();\n",
       "  } else {\n",
       "    $('div.input').show();\n",
       "  }\n",
       "  code_show = !code_show\n",
       "}  \n",
       "$( document ).ready(code_toggle);\n",
       "</script>\n",
       "  <form action=\"javascript:code_toggle()\">\n",
       "    <input type=\"submit\" value=\"Click here to toggle on/off the raw code.\">\n",
       " </form>"
      ]
     },
     "metadata": {},
     "output_type": "display_data"
    }
   ],
   "source": [
    "library(IRdisplay)\n",
    "\n",
    "display_html(\n",
    "'<script>  \n",
    "code_show=true; \n",
    "function code_toggle() {\n",
    "  if (code_show){\n",
    "    $(\\'div.input\\').hide();\n",
    "  } else {\n",
    "    $(\\'div.input\\').show();\n",
    "  }\n",
    "  code_show = !code_show\n",
    "}  \n",
    "$( document ).ready(code_toggle);\n",
    "</script>\n",
    "  <form action=\"javascript:code_toggle()\">\n",
    "    <input type=\"submit\" value=\"Click here to toggle on/off the raw code.\">\n",
    " </form>'\n",
    ")"
   ]
  },
  {
   "cell_type": "code",
   "execution_count": 22,
   "id": "a4968ee0-affd-44d9-ab91-64bcddbeced6",
   "metadata": {},
   "outputs": [],
   "source": [
    "options(repr.plot.width = 15, repr.plot.height = 10)"
   ]
  },
  {
   "cell_type": "markdown",
   "id": "59238127-d75e-4819-94e4-973b33a375bd",
   "metadata": {},
   "source": [
    "## Check sessions are assigned in both groups"
   ]
  },
  {
   "cell_type": "code",
   "execution_count": 2,
   "id": "7ca4c9a3-c45d-4e0e-b5ca-0cf47edd1c15",
   "metadata": {},
   "outputs": [],
   "source": [
    "query_check_duplicate <- \"\n",
    "WITH t_duplicate AS\n",
    "(SELECT  web_session_id, wiki, count(distinct `group` ) AS groups,  min(meta.dt) AS session_dt \n",
    "FROM event.mediawiki_web_ab_test_enrollment\n",
    "WHERE year=2023 and month IN (5,6)\n",
    "AND wiki  IN ('hewiki', 'enwiki', 'fawiki', 'frwiki', 'kowiki', 'ptwiki', 'srwiki', \n",
    "'thwiki', 'trwiki', 'viwiki') \n",
    "AND CONCAT(year, '-', LPAD(month,2,'0'),'-', LPAD(day,2,'0')) BETWEEN '2023-06-02' AND '2023-06-19'\n",
    "GROUP BY  web_session_id, wiki\n",
    "HAVING groups>1\n",
    ")\n",
    "SELECT wiki, count(web_session_id) AS dup_sessions\n",
    "FROM t_duplicate\n",
    "GROUP BY wiki\n",
    "\""
   ]
  },
  {
   "cell_type": "code",
   "execution_count": 3,
   "id": "5c652fab-6d30-43cc-bfdf-103a6438671b",
   "metadata": {},
   "outputs": [
    {
     "name": "stderr",
     "output_type": "stream",
     "text": [
      "Don't forget to authenticate with Kerberos using kinit\n",
      "\n"
     ]
    }
   ],
   "source": [
    "df_duplicate <- wmfdata::query_hive(query_check_duplicate)"
   ]
  },
  {
   "cell_type": "code",
   "execution_count": 4,
   "id": "3d31fdd9-f640-47ab-a402-301e588d84b8",
   "metadata": {},
   "outputs": [
    {
     "data": {
      "text/html": [
       "<table class=\"dataframe\">\n",
       "<caption>A data.frame: 10 × 2</caption>\n",
       "<thead>\n",
       "\t<tr><th scope=col>wiki</th><th scope=col>dup_sessions</th></tr>\n",
       "\t<tr><th scope=col>&lt;chr&gt;</th><th scope=col>&lt;int&gt;</th></tr>\n",
       "</thead>\n",
       "<tbody>\n",
       "\t<tr><td>enwiki</td><td>1142</td></tr>\n",
       "\t<tr><td>fawiki</td><td>  81</td></tr>\n",
       "\t<tr><td>frwiki</td><td> 130</td></tr>\n",
       "\t<tr><td>hewiki</td><td>  40</td></tr>\n",
       "\t<tr><td>kowiki</td><td>  25</td></tr>\n",
       "\t<tr><td>ptwiki</td><td>  80</td></tr>\n",
       "\t<tr><td>srwiki</td><td>  10</td></tr>\n",
       "\t<tr><td>thwiki</td><td>  15</td></tr>\n",
       "\t<tr><td>trwiki</td><td>  38</td></tr>\n",
       "\t<tr><td>viwiki</td><td>  27</td></tr>\n",
       "</tbody>\n",
       "</table>\n"
      ],
      "text/latex": [
       "A data.frame: 10 × 2\n",
       "\\begin{tabular}{ll}\n",
       " wiki & dup\\_sessions\\\\\n",
       " <chr> & <int>\\\\\n",
       "\\hline\n",
       "\t enwiki & 1142\\\\\n",
       "\t fawiki &   81\\\\\n",
       "\t frwiki &  130\\\\\n",
       "\t hewiki &   40\\\\\n",
       "\t kowiki &   25\\\\\n",
       "\t ptwiki &   80\\\\\n",
       "\t srwiki &   10\\\\\n",
       "\t thwiki &   15\\\\\n",
       "\t trwiki &   38\\\\\n",
       "\t viwiki &   27\\\\\n",
       "\\end{tabular}\n"
      ],
      "text/markdown": [
       "\n",
       "A data.frame: 10 × 2\n",
       "\n",
       "| wiki &lt;chr&gt; | dup_sessions &lt;int&gt; |\n",
       "|---|---|\n",
       "| enwiki | 1142 |\n",
       "| fawiki |   81 |\n",
       "| frwiki |  130 |\n",
       "| hewiki |   40 |\n",
       "| kowiki |   25 |\n",
       "| ptwiki |   80 |\n",
       "| srwiki |   10 |\n",
       "| thwiki |   15 |\n",
       "| trwiki |   38 |\n",
       "| viwiki |   27 |\n",
       "\n"
      ],
      "text/plain": [
       "   wiki   dup_sessions\n",
       "1  enwiki 1142        \n",
       "2  fawiki   81        \n",
       "3  frwiki  130        \n",
       "4  hewiki   40        \n",
       "5  kowiki   25        \n",
       "6  ptwiki   80        \n",
       "7  srwiki   10        \n",
       "8  thwiki   15        \n",
       "9  trwiki   38        \n",
       "10 viwiki   27        "
      ]
     },
     "metadata": {},
     "output_type": "display_data"
    }
   ],
   "source": [
    "df_duplicate "
   ]
  },
  {
   "cell_type": "markdown",
   "id": "d3397b22-a9fd-4958-b238-f5a28075e2de",
   "metadata": {},
   "source": [
    "### Note\n",
    "Above sessions will be excluded in analysis"
   ]
  },
  {
   "cell_type": "markdown",
   "id": "6f8e1b2f-8ffe-4ba2-92fb-d9524fdfe6a1",
   "metadata": {},
   "source": [
    "### One example"
   ]
  },
  {
   "cell_type": "code",
   "execution_count": 10,
   "id": "fbff0109-fc23-4d4c-a326-15562af71f85",
   "metadata": {},
   "outputs": [],
   "source": [
    "query <- \"\n",
    "SELECT *\n",
    "FROM event.mediawiki_web_ab_test_enrollment\n",
    "WHERE year=2023 and month IN (5,6)\n",
    "AND wiki='enwiki'\n",
    "AND CONCAT(year, '-', LPAD(month,2,'0'),'-', LPAD(day,2,'0')) BETWEEN '2023-06-02' AND '2023-06-19'\n",
    "AND web_session_id='03a6e397ee1f3c0ab735'\n",
    "ORDER BY dt\n",
    "LIMIT 10000\n",
    "\""
   ]
  },
  {
   "cell_type": "code",
   "execution_count": 11,
   "id": "8f4b400f-d5a7-4093-b82b-18300e6ecf4f",
   "metadata": {},
   "outputs": [
    {
     "name": "stderr",
     "output_type": "stream",
     "text": [
      "Don't forget to authenticate with Kerberos using kinit\n",
      "\n"
     ]
    }
   ],
   "source": [
    "df_test <- wmfdata::query_hive(query)"
   ]
  },
  {
   "cell_type": "markdown",
   "id": "d9e76cd0-12dd-4605-a3c6-9c2003afaaef",
   "metadata": {},
   "source": [
    "## Check bucketing of non-duplicated sessions"
   ]
  },
  {
   "cell_type": "code",
   "execution_count": 13,
   "id": "fd5ef17c-9b6a-4fd6-ad7d-4dc91bf91e25",
   "metadata": {},
   "outputs": [],
   "source": [
    "query_non_duplicate <- \"\n",
    "WITH t_ab_no_duplicate AS\n",
    "(SELECT  web_session_id, wiki, meta.domain AS domain, count(distinct `group` ) AS groups,  min(meta.dt) AS session_dt \n",
    "FROM event.mediawiki_web_ab_test_enrollment\n",
    "WHERE wiki IN ('hewiki', 'enwiki', 'fawiki', 'frwiki', 'kowiki', 'ptwiki', 'srwiki', \n",
    "'thwiki', 'trwiki', 'viwiki') and year=2023 and month = 6\n",
    "AND CONCAT(year, '-', LPAD(month,2,'0'),'-', LPAD(day,2,'0')) BETWEEN '2023-06-02' AND '2023-06-19'\n",
    "GROUP BY  web_session_id, wiki,  meta.domain\n",
    "-- exclude session ids are in both control and treatment group\n",
    "HAVING groups < 2\n",
    ")\n",
    "SELECT \n",
    " t1.web_session_id,\n",
    " t1.wiki,t1.meta.domain AS domain,\n",
    " t1.`group` AS test_group,\n",
    " min(t1.meta.dt) AS session_dt \n",
    "FROM event.mediawiki_web_ab_test_enrollment AS t1\n",
    "INNER JOIN t_ab_no_duplicate AS t2 ON t1.wiki=t2.wiki \n",
    "AND t1.web_session_id=t2.web_session_id \n",
    "WHERE t1.wiki  IN ('hewiki', 'enwiki', 'fawiki', 'frwiki', 'kowiki', 'ptwiki', 'srwiki', \n",
    "'thwiki', 'trwiki', 'viwiki')  and t1.year=2023 and t1.month=6 \n",
    "AND CONCAT(t1.year, '-', LPAD(t1.month,2,'0'),'-', LPAD(t1.day,2,'0')) BETWEEN '2023-06-02' AND '2023-06-19'\n",
    "GROUP BY  t1.web_session_id, t1.wiki,t1.meta.domain, t1.`group`\n",
    "\" \n",
    "  "
   ]
  },
  {
   "cell_type": "code",
   "execution_count": 14,
   "id": "a2240a78-35c8-4d14-afd0-0c61773aae0b",
   "metadata": {},
   "outputs": [
    {
     "name": "stderr",
     "output_type": "stream",
     "text": [
      "Don't forget to authenticate with Kerberos using kinit\n",
      "\n"
     ]
    }
   ],
   "source": [
    "df_non_duplicate <- wmfdata::query_hive(query_non_duplicate)"
   ]
  },
  {
   "cell_type": "code",
   "execution_count": 18,
   "id": "f3aeec7d-012d-4552-abc0-a92d04afda6d",
   "metadata": {},
   "outputs": [
    {
     "data": {
      "text/html": [
       "<table class=\"dataframe\">\n",
       "<caption>A tibble: 20 × 3</caption>\n",
       "<thead>\n",
       "\t<tr><th scope=col>wiki</th><th scope=col>test_group</th><th scope=col>sessions</th></tr>\n",
       "\t<tr><th scope=col>&lt;chr&gt;</th><th scope=col>&lt;chr&gt;</th><th scope=col>&lt;int&gt;</th></tr>\n",
       "</thead>\n",
       "<tbody>\n",
       "\t<tr><td>enwiki</td><td>control  </td><td>520996</td></tr>\n",
       "\t<tr><td>enwiki</td><td>treatment</td><td>478293</td></tr>\n",
       "\t<tr><td>fawiki</td><td>control  </td><td> 11579</td></tr>\n",
       "\t<tr><td>fawiki</td><td>treatment</td><td> 10980</td></tr>\n",
       "\t<tr><td>frwiki</td><td>control  </td><td> 66111</td></tr>\n",
       "\t<tr><td>frwiki</td><td>treatment</td><td> 62048</td></tr>\n",
       "\t<tr><td>hewiki</td><td>control  </td><td> 10598</td></tr>\n",
       "\t<tr><td>hewiki</td><td>treatment</td><td> 11359</td></tr>\n",
       "\t<tr><td>kowiki</td><td>control  </td><td>  5895</td></tr>\n",
       "\t<tr><td>kowiki</td><td>treatment</td><td>  6207</td></tr>\n",
       "\t<tr><td>ptwiki</td><td>control  </td><td> 20321</td></tr>\n",
       "\t<tr><td>ptwiki</td><td>treatment</td><td> 20322</td></tr>\n",
       "\t<tr><td>srwiki</td><td>control  </td><td>  3165</td></tr>\n",
       "\t<tr><td>srwiki</td><td>treatment</td><td>  3322</td></tr>\n",
       "\t<tr><td>thwiki</td><td>control  </td><td>  3733</td></tr>\n",
       "\t<tr><td>thwiki</td><td>treatment</td><td>  3218</td></tr>\n",
       "\t<tr><td>trwiki</td><td>control  </td><td> 12948</td></tr>\n",
       "\t<tr><td>trwiki</td><td>treatment</td><td> 11783</td></tr>\n",
       "\t<tr><td>viwiki</td><td>control  </td><td>  7373</td></tr>\n",
       "\t<tr><td>viwiki</td><td>treatment</td><td>  7726</td></tr>\n",
       "</tbody>\n",
       "</table>\n"
      ],
      "text/latex": [
       "A tibble: 20 × 3\n",
       "\\begin{tabular}{lll}\n",
       " wiki & test\\_group & sessions\\\\\n",
       " <chr> & <chr> & <int>\\\\\n",
       "\\hline\n",
       "\t enwiki & control   & 520996\\\\\n",
       "\t enwiki & treatment & 478293\\\\\n",
       "\t fawiki & control   &  11579\\\\\n",
       "\t fawiki & treatment &  10980\\\\\n",
       "\t frwiki & control   &  66111\\\\\n",
       "\t frwiki & treatment &  62048\\\\\n",
       "\t hewiki & control   &  10598\\\\\n",
       "\t hewiki & treatment &  11359\\\\\n",
       "\t kowiki & control   &   5895\\\\\n",
       "\t kowiki & treatment &   6207\\\\\n",
       "\t ptwiki & control   &  20321\\\\\n",
       "\t ptwiki & treatment &  20322\\\\\n",
       "\t srwiki & control   &   3165\\\\\n",
       "\t srwiki & treatment &   3322\\\\\n",
       "\t thwiki & control   &   3733\\\\\n",
       "\t thwiki & treatment &   3218\\\\\n",
       "\t trwiki & control   &  12948\\\\\n",
       "\t trwiki & treatment &  11783\\\\\n",
       "\t viwiki & control   &   7373\\\\\n",
       "\t viwiki & treatment &   7726\\\\\n",
       "\\end{tabular}\n"
      ],
      "text/markdown": [
       "\n",
       "A tibble: 20 × 3\n",
       "\n",
       "| wiki &lt;chr&gt; | test_group &lt;chr&gt; | sessions &lt;int&gt; |\n",
       "|---|---|---|\n",
       "| enwiki | control   | 520996 |\n",
       "| enwiki | treatment | 478293 |\n",
       "| fawiki | control   |  11579 |\n",
       "| fawiki | treatment |  10980 |\n",
       "| frwiki | control   |  66111 |\n",
       "| frwiki | treatment |  62048 |\n",
       "| hewiki | control   |  10598 |\n",
       "| hewiki | treatment |  11359 |\n",
       "| kowiki | control   |   5895 |\n",
       "| kowiki | treatment |   6207 |\n",
       "| ptwiki | control   |  20321 |\n",
       "| ptwiki | treatment |  20322 |\n",
       "| srwiki | control   |   3165 |\n",
       "| srwiki | treatment |   3322 |\n",
       "| thwiki | control   |   3733 |\n",
       "| thwiki | treatment |   3218 |\n",
       "| trwiki | control   |  12948 |\n",
       "| trwiki | treatment |  11783 |\n",
       "| viwiki | control   |   7373 |\n",
       "| viwiki | treatment |   7726 |\n",
       "\n"
      ],
      "text/plain": [
       "   wiki   test_group sessions\n",
       "1  enwiki control    520996  \n",
       "2  enwiki treatment  478293  \n",
       "3  fawiki control     11579  \n",
       "4  fawiki treatment   10980  \n",
       "5  frwiki control     66111  \n",
       "6  frwiki treatment   62048  \n",
       "7  hewiki control     10598  \n",
       "8  hewiki treatment   11359  \n",
       "9  kowiki control      5895  \n",
       "10 kowiki treatment    6207  \n",
       "11 ptwiki control     20321  \n",
       "12 ptwiki treatment   20322  \n",
       "13 srwiki control      3165  \n",
       "14 srwiki treatment    3322  \n",
       "15 thwiki control      3733  \n",
       "16 thwiki treatment    3218  \n",
       "17 trwiki control     12948  \n",
       "18 trwiki treatment   11783  \n",
       "19 viwiki control      7373  \n",
       "20 viwiki treatment    7726  "
      ]
     },
     "metadata": {},
     "output_type": "display_data"
    }
   ],
   "source": [
    "df_non_duplicate  %>%\n",
    "        group_by(wiki, test_group) %>% \n",
    "        summarize(sessions=n_distinct(web_session_id), .groups='drop')"
   ]
  },
  {
   "cell_type": "code",
   "execution_count": 23,
   "id": "fde1b0a0-37a1-4910-b3eb-6c854dac7b1a",
   "metadata": {},
   "outputs": [
    {
     "data": {
      "image/png": "[encoded data removed]",
      "text/plain": [
       "plot without title"
      ]
     },
     "metadata": {
      "image/png": {
       "height": 600,
       "width": 900
      }
     },
     "output_type": "display_data"
    }
   ],
   "source": [
    "\n",
    "barchart_sessions_overall  <- df_non_duplicate  %>%\n",
    "        group_by(wiki, test_group) %>% \n",
    "        summarize(sessions=n_distinct(web_session_id), .groups='drop') %>%\n",
    "        ggplot(aes(x = test_group, y= sessions, fill=test_group)) +\n",
    "        geom_bar(stat=\"identity\", position = 'dodge') +\n",
    "        #geom_text(aes(label = paste(scrolls_per_pv)), color = \"black\", position = position_dodge(0.9), vjust =0, size = 3) +\n",
    "        facet_wrap(~wiki, scale = 'free_y') +\n",
    "        labs (\n",
    "              y = \"Number of total unique sessions\" ,\n",
    "             title = \"Number of total unique sessions \" ,\n",
    "             caption = \"User type: logged-in User\" ) +\n",
    "     scale_fill_manual(values= c( \"#666666\",  \"#000099\"), name = \"feature\")  +\n",
    "         theme(\n",
    "            panel.grid.major = element_blank(), \n",
    "            panel.grid.minor = element_blank(),\n",
    "            panel.background = element_blank(),\n",
    "            axis.text.x = element_blank(),\n",
    "            plot.caption = element_text(hjust = 0, face= \"italic\"),\n",
    "            strip.background =element_rect(fill=\"white\"),\n",
    "            plot.title = element_text(hjust = 0.5),\n",
    "            text = element_text(size=12),\n",
    "            axis.line = element_line(colour = \"black\"),\n",
    "            legend.position = \"bottom\")\n",
    "barchart_sessions_overall\n",
    "     "
   ]
  },
  {
   "cell_type": "markdown",
   "id": "9d8d8eda-ac2c-4abb-9957-39255885401a",
   "metadata": {},
   "source": [
    "### Note\n",
    "\n",
    "Bucketing is balanced."
   ]
  },
  {
   "cell_type": "markdown",
   "id": "30dfa68d-8d80-4d06-a305-3ee2d4468097",
   "metadata": {},
   "source": [
    "## Check session switches skin preference"
   ]
  },
  {
   "cell_type": "code",
   "execution_count": 24,
   "id": "63826e9d-4651-4d2e-b6af-c76e83633343",
   "metadata": {},
   "outputs": [],
   "source": [
    "query_skin <- \"\n",
    "select skin, count(1)\n",
    "from event.mediawiki_web_ab_test_enrollment\n",
    "WHERE wiki IN ('hewiki', 'enwiki', 'fawiki', 'frwiki', 'kowiki', 'ptwiki', 'srwiki', \n",
    "'thwiki', 'trwiki', 'viwiki') and year=2023 and month = 6 \n",
    "AND CONCAT(year, '-', LPAD(month,2,'0'),'-', LPAD(day,2,'0')) BETWEEN '2023-06-02' AND '2023-06-19'\n",
    "AND experiment_name='skin-vector-zebra-experiment'\n",
    "GROUP BY skin\n",
    "\"\n"
   ]
  },
  {
   "cell_type": "code",
   "execution_count": 25,
   "id": "aa434565-d355-426f-a1b4-a91dccaba90d",
   "metadata": {},
   "outputs": [
    {
     "name": "stderr",
     "output_type": "stream",
     "text": [
      "Don't forget to authenticate with Kerberos using kinit\n",
      "\n"
     ]
    }
   ],
   "source": [
    "df_skin <- wmfdata::query_hive(query_skin)"
   ]
  },
  {
   "cell_type": "code",
   "execution_count": 26,
   "id": "caebcc03-6845-4b1a-8864-efe0808a070d",
   "metadata": {},
   "outputs": [
    {
     "data": {
      "text/html": [
       "<table class=\"dataframe\">\n",
       "<caption>A data.frame: 2 × 2</caption>\n",
       "<thead>\n",
       "\t<tr><th scope=col>skin</th><th scope=col>X_c1</th></tr>\n",
       "\t<tr><th scope=col>&lt;chr&gt;</th><th scope=col>&lt;int&gt;</th></tr>\n",
       "</thead>\n",
       "<tbody>\n",
       "\t<tr><td>NULL       </td><td>       1</td></tr>\n",
       "\t<tr><td>vector-2022</td><td>20375167</td></tr>\n",
       "</tbody>\n",
       "</table>\n"
      ],
      "text/latex": [
       "A data.frame: 2 × 2\n",
       "\\begin{tabular}{ll}\n",
       " skin & X\\_c1\\\\\n",
       " <chr> & <int>\\\\\n",
       "\\hline\n",
       "\t NULL        &        1\\\\\n",
       "\t vector-2022 & 20375167\\\\\n",
       "\\end{tabular}\n"
      ],
      "text/markdown": [
       "\n",
       "A data.frame: 2 × 2\n",
       "\n",
       "| skin &lt;chr&gt; | X_c1 &lt;int&gt; |\n",
       "|---|---|\n",
       "| NULL        |        1 |\n",
       "| vector-2022 | 20375167 |\n",
       "\n"
      ],
      "text/plain": [
       "  skin        X_c1    \n",
       "1 NULL               1\n",
       "2 vector-2022 20375167"
      ]
     },
     "metadata": {},
     "output_type": "display_data"
    }
   ],
   "source": [
    "df_skin"
   ]
  },
  {
   "cell_type": "markdown",
   "id": "a6d1d43d-5a9a-4ad6-b199-c9a099e67dfa",
   "metadata": {},
   "source": [
    "### Note\n",
    "\n",
    "Need to exclude the session which is not in vector-2022 skin."
   ]
  },
  {
   "cell_type": "markdown",
   "id": "5966ca49-aece-4fc7-9586-736d1f6298c8",
   "metadata": {},
   "source": [
    "## Check if only logged-users in experiment, need to exclude anonymous users"
   ]
  },
  {
   "cell_type": "code",
   "execution_count": 27,
   "id": "abd733ca-92d2-4805-bded-b086cc72fe67",
   "metadata": {},
   "outputs": [],
   "source": [
    "query_isanon<- \"\n",
    "select is_anon, count(1)\n",
    "from event.mediawiki_web_ab_test_enrollment\n",
    "WHERE wiki IN ('hewiki', 'enwiki', 'fawiki', 'frwiki', 'kowiki', 'ptwiki', 'srwiki', \n",
    "'thwiki', 'trwiki', 'viwiki') and year=2023 and month = 6 \n",
    "AND CONCAT(year, '-', LPAD(month,2,'0'),'-', LPAD(day,2,'0')) BETWEEN '2023-06-02' AND '2023-06-19'\n",
    "AND experiment_name='skin-vector-zebra-experiment'\n",
    "GROUP BY is_anon\n",
    "\"\n"
   ]
  },
  {
   "cell_type": "code",
   "execution_count": 28,
   "id": "3138449e-ebc0-4ed6-8687-31d26a21c84b",
   "metadata": {},
   "outputs": [
    {
     "name": "stderr",
     "output_type": "stream",
     "text": [
      "Don't forget to authenticate with Kerberos using kinit\n",
      "\n"
     ]
    }
   ],
   "source": [
    "df_isanon <- wmfdata::query_hive(query_isanon)"
   ]
  },
  {
   "cell_type": "code",
   "execution_count": 29,
   "id": "2e84cc3e-bb2c-46ac-bbb7-96fd42719127",
   "metadata": {},
   "outputs": [
    {
     "data": {
      "text/html": [
       "<table class=\"dataframe\">\n",
       "<caption>A data.frame: 1 × 2</caption>\n",
       "<thead>\n",
       "\t<tr><th scope=col>is_anon</th><th scope=col>X_c1</th></tr>\n",
       "\t<tr><th scope=col>&lt;chr&gt;</th><th scope=col>&lt;int&gt;</th></tr>\n",
       "</thead>\n",
       "<tbody>\n",
       "\t<tr><td>false</td><td>20375168</td></tr>\n",
       "</tbody>\n",
       "</table>\n"
      ],
      "text/latex": [
       "A data.frame: 1 × 2\n",
       "\\begin{tabular}{ll}\n",
       " is\\_anon & X\\_c1\\\\\n",
       " <chr> & <int>\\\\\n",
       "\\hline\n",
       "\t false & 20375168\\\\\n",
       "\\end{tabular}\n"
      ],
      "text/markdown": [
       "\n",
       "A data.frame: 1 × 2\n",
       "\n",
       "| is_anon &lt;chr&gt; | X_c1 &lt;int&gt; |\n",
       "|---|---|\n",
       "| false | 20375168 |\n",
       "\n"
      ],
      "text/plain": [
       "  is_anon X_c1    \n",
       "1 false   20375168"
      ]
     },
     "metadata": {},
     "output_type": "display_data"
    }
   ],
   "source": [
    "df_isanon"
   ]
  },
  {
   "cell_type": "markdown",
   "id": "508e231a-e432-4bbc-b0e6-a333191b9f60",
   "metadata": {},
   "source": [
    "### Note\n",
    "\n",
    "No anonymous users are enrolled in experiment, which is expected."
   ]
  },
  {
   "cell_type": "markdown",
   "id": "9fdf9467-fbb9-48e2-abb1-3e81add50f2d",
   "metadata": {},
   "source": [
    "## Check how many bot users in experiment, need to exclude bots."
   ]
  },
  {
   "cell_type": "code",
   "execution_count": 30,
   "id": "ca81c015-5596-4813-acd7-706b49444c8f",
   "metadata": {},
   "outputs": [],
   "source": [
    "query_isbot<- \"\n",
    "select is_bot, count(1)\n",
    "from event.mediawiki_web_ab_test_enrollment\n",
    "WHERE wiki IN ('hewiki', 'enwiki', 'fawiki', 'frwiki', 'kowiki', 'ptwiki', 'srwiki', \n",
    "'thwiki', 'trwiki', 'viwiki') and year=2023 and month = 6 \n",
    "AND CONCAT(year, '-', LPAD(month,2,'0'),'-', LPAD(day,2,'0')) BETWEEN '2023-06-02' AND '2023-06-19'\n",
    "AND experiment_name='skin-vector-zebra-experiment'\n",
    "GROUP BY is_bot\n",
    "\""
   ]
  },
  {
   "cell_type": "code",
   "execution_count": 31,
   "id": "2c330d4a-67ed-4cfa-a7d5-74b368c9d244",
   "metadata": {},
   "outputs": [
    {
     "name": "stderr",
     "output_type": "stream",
     "text": [
      "Don't forget to authenticate with Kerberos using kinit\n",
      "\n"
     ]
    }
   ],
   "source": [
    "df_isbot <- wmfdata::query_hive(query_isbot)"
   ]
  },
  {
   "cell_type": "code",
   "execution_count": 32,
   "id": "e6bc0c54-08c5-498d-bb63-7fb8f78e84aa",
   "metadata": {},
   "outputs": [
    {
     "data": {
      "text/html": [
       "<table class=\"dataframe\">\n",
       "<caption>A data.frame: 2 × 2</caption>\n",
       "<thead>\n",
       "\t<tr><th scope=col>is_bot</th><th scope=col>X_c1</th></tr>\n",
       "\t<tr><th scope=col>&lt;chr&gt;</th><th scope=col>&lt;int&gt;</th></tr>\n",
       "</thead>\n",
       "<tbody>\n",
       "\t<tr><td>false</td><td>20374702</td></tr>\n",
       "\t<tr><td>true </td><td>     466</td></tr>\n",
       "</tbody>\n",
       "</table>\n"
      ],
      "text/latex": [
       "A data.frame: 2 × 2\n",
       "\\begin{tabular}{ll}\n",
       " is\\_bot & X\\_c1\\\\\n",
       " <chr> & <int>\\\\\n",
       "\\hline\n",
       "\t false & 20374702\\\\\n",
       "\t true  &      466\\\\\n",
       "\\end{tabular}\n"
      ],
      "text/markdown": [
       "\n",
       "A data.frame: 2 × 2\n",
       "\n",
       "| is_bot &lt;chr&gt; | X_c1 &lt;int&gt; |\n",
       "|---|---|\n",
       "| false | 20374702 |\n",
       "| true  |      466 |\n",
       "\n"
      ],
      "text/plain": [
       "  is_bot X_c1    \n",
       "1 false  20374702\n",
       "2 true        466"
      ]
     },
     "metadata": {},
     "output_type": "display_data"
    }
   ],
   "source": [
    "df_isbot "
   ]
  },
  {
   "cell_type": "markdown",
   "id": "6f05aef1-77b3-4ec0-ba90-ea2ac2f0e9dc",
   "metadata": {},
   "source": [
    "### Note\n",
    "\n",
    "Need to exclude 466 sessions from bot users in analysis."
   ]
  },
  {
   "cell_type": "code",
   "execution_count": null,
   "id": "5b2af8bf-d0d4-4054-b5a6-967edf2d8302",
   "metadata": {},
   "outputs": [],
   "source": []
  }
 ],
 "metadata": {
  "kernelspec": {
   "display_name": "R",
   "language": "R",
   "name": "ir"
  },
  "language_info": {
   "codemirror_mode": "r",
   "file_extension": ".r",
   "mimetype": "text/x-r-source",
   "name": "R",
   "pygments_lexer": "r",
   "version": "4.2.2"
  }
 },
 "nbformat": 4,
 "nbformat_minor": 5
}
